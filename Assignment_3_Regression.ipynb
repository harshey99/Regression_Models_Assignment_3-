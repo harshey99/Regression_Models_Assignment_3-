{
  "cells": [
    {
      "cell_type": "code",
      "execution_count": null,
      "id": "5ca49cbc",
      "metadata": {
        "id": "5ca49cbc"
      },
      "outputs": [],
      "source": [
        "import numpy as np\n",
        "import pandas as pd\n",
        "from sklearn.linear_model import LinearRegression\n",
        "import matplotlib.pyplot as plt\n",
        "import seaborn as sns"
      ]
    },
    {
      "cell_type": "code",
      "execution_count": null,
      "id": "42f23979",
      "metadata": {
        "scrolled": true,
        "id": "42f23979",
        "outputId": "b6f4c668-7e0b-4020-a094-1aca4970803f"
      },
      "outputs": [
        {
          "data": {
            "text/html": [
              "<div>\n",
              "<style scoped>\n",
              "    .dataframe tbody tr th:only-of-type {\n",
              "        vertical-align: middle;\n",
              "    }\n",
              "\n",
              "    .dataframe tbody tr th {\n",
              "        vertical-align: top;\n",
              "    }\n",
              "\n",
              "    .dataframe thead th {\n",
              "        text-align: right;\n",
              "    }\n",
              "</style>\n",
              "<table border=\"1\" class=\"dataframe\">\n",
              "  <thead>\n",
              "    <tr style=\"text-align: right;\">\n",
              "      <th></th>\n",
              "      <th>price_per_month</th>\n",
              "      <th>distance_eyre_square</th>\n",
              "      <th>distance_salthill</th>\n",
              "      <th>distance_nuig</th>\n",
              "      <th>distance_gmit</th>\n",
              "      <th>num_bedrooms</th>\n",
              "      <th>num_bathrooms</th>\n",
              "      <th>type</th>\n",
              "      <th>ber</th>\n",
              "      <th>balcony</th>\n",
              "      <th>floor</th>\n",
              "      <th>heating</th>\n",
              "    </tr>\n",
              "  </thead>\n",
              "  <tbody>\n",
              "    <tr>\n",
              "      <th>0</th>\n",
              "      <td>3700</td>\n",
              "      <td>1.112343</td>\n",
              "      <td>2.458528</td>\n",
              "      <td>0.663391</td>\n",
              "      <td>3.046377</td>\n",
              "      <td>5</td>\n",
              "      <td>3</td>\n",
              "      <td>house</td>\n",
              "      <td>exempt</td>\n",
              "      <td>no</td>\n",
              "      <td>ground</td>\n",
              "      <td>central</td>\n",
              "    </tr>\n",
              "    <tr>\n",
              "      <th>1</th>\n",
              "      <td>3640</td>\n",
              "      <td>1.045924</td>\n",
              "      <td>2.687242</td>\n",
              "      <td>1.013547</td>\n",
              "      <td>2.627561</td>\n",
              "      <td>6</td>\n",
              "      <td>3</td>\n",
              "      <td>house</td>\n",
              "      <td>b3</td>\n",
              "      <td>no</td>\n",
              "      <td>ground</td>\n",
              "      <td>central</td>\n",
              "    </tr>\n",
              "    <tr>\n",
              "      <th>2</th>\n",
              "      <td>2950</td>\n",
              "      <td>1.876834</td>\n",
              "      <td>2.365351</td>\n",
              "      <td>0.889952</td>\n",
              "      <td>4.098964</td>\n",
              "      <td>4</td>\n",
              "      <td>2</td>\n",
              "      <td>house</td>\n",
              "      <td>c1</td>\n",
              "      <td>no</td>\n",
              "      <td>ground</td>\n",
              "      <td>central</td>\n",
              "    </tr>\n",
              "    <tr>\n",
              "      <th>3</th>\n",
              "      <td>2825</td>\n",
              "      <td>1.739580</td>\n",
              "      <td>1.340990</td>\n",
              "      <td>0.973981</td>\n",
              "      <td>4.275886</td>\n",
              "      <td>3</td>\n",
              "      <td>2</td>\n",
              "      <td>apartment</td>\n",
              "      <td>d1</td>\n",
              "      <td>no</td>\n",
              "      <td>second</td>\n",
              "      <td>electric</td>\n",
              "    </tr>\n",
              "    <tr>\n",
              "      <th>4</th>\n",
              "      <td>2800</td>\n",
              "      <td>2.446769</td>\n",
              "      <td>1.037478</td>\n",
              "      <td>1.917976</td>\n",
              "      <td>4.984487</td>\n",
              "      <td>4</td>\n",
              "      <td>3</td>\n",
              "      <td>house</td>\n",
              "      <td>c1</td>\n",
              "      <td>no</td>\n",
              "      <td>ground</td>\n",
              "      <td>central</td>\n",
              "    </tr>\n",
              "  </tbody>\n",
              "</table>\n",
              "</div>"
            ],
            "text/plain": [
              "   price_per_month  distance_eyre_square  distance_salthill  distance_nuig  \\\n",
              "0             3700              1.112343           2.458528       0.663391   \n",
              "1             3640              1.045924           2.687242       1.013547   \n",
              "2             2950              1.876834           2.365351       0.889952   \n",
              "3             2825              1.739580           1.340990       0.973981   \n",
              "4             2800              2.446769           1.037478       1.917976   \n",
              "\n",
              "   distance_gmit  num_bedrooms  num_bathrooms       type     ber balcony  \\\n",
              "0       3.046377             5              3      house  exempt      no   \n",
              "1       2.627561             6              3      house      b3      no   \n",
              "2       4.098964             4              2      house      c1      no   \n",
              "3       4.275886             3              2  apartment      d1      no   \n",
              "4       4.984487             4              3      house      c1      no   \n",
              "\n",
              "    floor   heating  \n",
              "0  ground   central  \n",
              "1  ground   central  \n",
              "2  ground   central  \n",
              "3  second  electric  \n",
              "4  ground   central  "
            ]
          },
          "execution_count": 2,
          "metadata": {},
          "output_type": "execute_result"
        }
      ],
      "source": [
        "df = pd.read_table('galway_rentals.txt')\n",
        "df.head()"
      ]
    },
    {
      "cell_type": "code",
      "execution_count": null,
      "id": "0e7d7628",
      "metadata": {
        "id": "0e7d7628"
      },
      "outputs": [],
      "source": [
        "y = df['price_per_month']"
      ]
    },
    {
      "cell_type": "code",
      "execution_count": null,
      "id": "5aecc70a",
      "metadata": {
        "id": "5aecc70a"
      },
      "outputs": [],
      "source": [
        "df = df.drop(['price_per_month'],axis=1)\n"
      ]
    },
    {
      "cell_type": "code",
      "execution_count": null,
      "id": "69e60c9f",
      "metadata": {
        "id": "69e60c9f",
        "outputId": "3eda5b77-5c71-4c8f-9e6f-fc2a60071171"
      },
      "outputs": [
        {
          "data": {
            "text/plain": [
              "apartment    233\n",
              "house        140\n",
              "townhouse     12\n",
              "studio        10\n",
              "Name: type, dtype: int64"
            ]
          },
          "execution_count": 5,
          "metadata": {},
          "output_type": "execute_result"
        }
      ],
      "source": [
        "df['type'].value_counts()"
      ]
    },
    {
      "cell_type": "code",
      "execution_count": null,
      "id": "f4424e34",
      "metadata": {
        "id": "f4424e34",
        "outputId": "13ff703d-58e8-4b51-a287-57675b85ef3e"
      },
      "outputs": [
        {
          "name": "stdout",
          "output_type": "stream",
          "text": [
            "<class 'pandas.core.frame.DataFrame'>\n",
            "RangeIndex: 395 entries, 0 to 394\n",
            "Data columns (total 11 columns):\n",
            " #   Column                Non-Null Count  Dtype  \n",
            "---  ------                --------------  -----  \n",
            " 0   distance_eyre_square  395 non-null    float64\n",
            " 1   distance_salthill     395 non-null    float64\n",
            " 2   distance_nuig         395 non-null    float64\n",
            " 3   distance_gmit         395 non-null    float64\n",
            " 4   num_bedrooms          395 non-null    int64  \n",
            " 5   num_bathrooms         395 non-null    int64  \n",
            " 6   type                  395 non-null    object \n",
            " 7   ber                   395 non-null    object \n",
            " 8   balcony               395 non-null    object \n",
            " 9   floor                 395 non-null    object \n",
            " 10  heating               395 non-null    object \n",
            "dtypes: float64(4), int64(2), object(5)\n",
            "memory usage: 34.1+ KB\n"
          ]
        }
      ],
      "source": [
        "df.info()"
      ]
    },
    {
      "cell_type": "code",
      "execution_count": null,
      "id": "920c1129",
      "metadata": {
        "id": "920c1129",
        "outputId": "5b32966a-856b-4bcd-ee2a-e4f4c1e06d57"
      },
      "outputs": [
        {
          "data": {
            "text/html": [
              "<div>\n",
              "<style scoped>\n",
              "    .dataframe tbody tr th:only-of-type {\n",
              "        vertical-align: middle;\n",
              "    }\n",
              "\n",
              "    .dataframe tbody tr th {\n",
              "        vertical-align: top;\n",
              "    }\n",
              "\n",
              "    .dataframe thead th {\n",
              "        text-align: right;\n",
              "    }\n",
              "</style>\n",
              "<table border=\"1\" class=\"dataframe\">\n",
              "  <thead>\n",
              "    <tr style=\"text-align: right;\">\n",
              "      <th></th>\n",
              "      <th>distance_eyre_square</th>\n",
              "      <th>distance_salthill</th>\n",
              "      <th>distance_nuig</th>\n",
              "      <th>distance_gmit</th>\n",
              "      <th>num_bedrooms</th>\n",
              "      <th>num_bathrooms</th>\n",
              "    </tr>\n",
              "  </thead>\n",
              "  <tbody>\n",
              "    <tr>\n",
              "      <th>count</th>\n",
              "      <td>395.000000</td>\n",
              "      <td>395.000000</td>\n",
              "      <td>395.000000</td>\n",
              "      <td>395.000000</td>\n",
              "      <td>395.000000</td>\n",
              "      <td>395.000000</td>\n",
              "    </tr>\n",
              "    <tr>\n",
              "      <th>mean</th>\n",
              "      <td>2.273589</td>\n",
              "      <td>2.629011</td>\n",
              "      <td>2.301768</td>\n",
              "      <td>3.570564</td>\n",
              "      <td>2.498734</td>\n",
              "      <td>1.731646</td>\n",
              "    </tr>\n",
              "    <tr>\n",
              "      <th>std</th>\n",
              "      <td>1.461875</td>\n",
              "      <td>1.653713</td>\n",
              "      <td>1.458814</td>\n",
              "      <td>1.860081</td>\n",
              "      <td>1.050440</td>\n",
              "      <td>0.718774</td>\n",
              "    </tr>\n",
              "    <tr>\n",
              "      <th>min</th>\n",
              "      <td>0.007512</td>\n",
              "      <td>0.099173</td>\n",
              "      <td>0.311939</td>\n",
              "      <td>0.209452</td>\n",
              "      <td>1.000000</td>\n",
              "      <td>1.000000</td>\n",
              "    </tr>\n",
              "    <tr>\n",
              "      <th>25%</th>\n",
              "      <td>1.020116</td>\n",
              "      <td>1.350377</td>\n",
              "      <td>1.117011</td>\n",
              "      <td>2.237932</td>\n",
              "      <td>2.000000</td>\n",
              "      <td>1.000000</td>\n",
              "    </tr>\n",
              "    <tr>\n",
              "      <th>50%</th>\n",
              "      <td>2.091903</td>\n",
              "      <td>2.339826</td>\n",
              "      <td>1.765705</td>\n",
              "      <td>3.252499</td>\n",
              "      <td>2.000000</td>\n",
              "      <td>2.000000</td>\n",
              "    </tr>\n",
              "    <tr>\n",
              "      <th>75%</th>\n",
              "      <td>3.051256</td>\n",
              "      <td>3.580287</td>\n",
              "      <td>3.298584</td>\n",
              "      <td>4.729937</td>\n",
              "      <td>3.000000</td>\n",
              "      <td>2.000000</td>\n",
              "    </tr>\n",
              "    <tr>\n",
              "      <th>max</th>\n",
              "      <td>5.586384</td>\n",
              "      <td>7.005967</td>\n",
              "      <td>6.308555</td>\n",
              "      <td>8.135066</td>\n",
              "      <td>6.000000</td>\n",
              "      <td>3.000000</td>\n",
              "    </tr>\n",
              "  </tbody>\n",
              "</table>\n",
              "</div>"
            ],
            "text/plain": [
              "       distance_eyre_square  distance_salthill  distance_nuig  distance_gmit  \\\n",
              "count            395.000000         395.000000     395.000000     395.000000   \n",
              "mean               2.273589           2.629011       2.301768       3.570564   \n",
              "std                1.461875           1.653713       1.458814       1.860081   \n",
              "min                0.007512           0.099173       0.311939       0.209452   \n",
              "25%                1.020116           1.350377       1.117011       2.237932   \n",
              "50%                2.091903           2.339826       1.765705       3.252499   \n",
              "75%                3.051256           3.580287       3.298584       4.729937   \n",
              "max                5.586384           7.005967       6.308555       8.135066   \n",
              "\n",
              "       num_bedrooms  num_bathrooms  \n",
              "count    395.000000     395.000000  \n",
              "mean       2.498734       1.731646  \n",
              "std        1.050440       0.718774  \n",
              "min        1.000000       1.000000  \n",
              "25%        2.000000       1.000000  \n",
              "50%        2.000000       2.000000  \n",
              "75%        3.000000       2.000000  \n",
              "max        6.000000       3.000000  "
            ]
          },
          "execution_count": 7,
          "metadata": {},
          "output_type": "execute_result"
        }
      ],
      "source": [
        "df.describe()"
      ]
    },
    {
      "cell_type": "code",
      "execution_count": null,
      "id": "fa9fbe4f",
      "metadata": {
        "id": "fa9fbe4f"
      },
      "outputs": [],
      "source": [
        "col = ['type','ber','balcony','floor','heating']\n",
        "\n",
        "\n"
      ]
    },
    {
      "cell_type": "code",
      "execution_count": null,
      "id": "13372d37",
      "metadata": {
        "id": "13372d37"
      },
      "outputs": [],
      "source": [
        "from sklearn.preprocessing import LabelEncoder, OneHotEncoder"
      ]
    },
    {
      "cell_type": "code",
      "execution_count": null,
      "id": "bb33d9f6",
      "metadata": {
        "id": "bb33d9f6"
      },
      "outputs": [],
      "source": [
        "# for each_col in col:\n",
        "#   le = LabelEncoder()\n",
        "#   df[each_col] = le.fit_transform(df[each_col])"
      ]
    },
    {
      "cell_type": "code",
      "execution_count": null,
      "id": "c8f3cbf9",
      "metadata": {
        "id": "c8f3cbf9"
      },
      "outputs": [],
      "source": [
        "onehotencoder = OneHotEncoder()\n",
        "df_type = onehotencoder.fit_transform(df[['type']]).toarray()"
      ]
    },
    {
      "cell_type": "code",
      "execution_count": null,
      "id": "911a8018",
      "metadata": {
        "id": "911a8018",
        "outputId": "b40a1fce-0b0a-46e2-dca4-67e6dc58114b"
      },
      "outputs": [
        {
          "data": {
            "text/plain": [
              "(395, 4)"
            ]
          },
          "execution_count": 12,
          "metadata": {},
          "output_type": "execute_result"
        }
      ],
      "source": [
        "df_type.shape"
      ]
    },
    {
      "cell_type": "code",
      "execution_count": null,
      "id": "efe96660",
      "metadata": {
        "id": "efe96660"
      },
      "outputs": [],
      "source": [
        "onehotencoder = OneHotEncoder()\n",
        "df_ber = onehotencoder.fit_transform(df[['ber']]).toarray()"
      ]
    },
    {
      "cell_type": "code",
      "execution_count": null,
      "id": "36fe3a27",
      "metadata": {
        "id": "36fe3a27"
      },
      "outputs": [],
      "source": [
        "onehotencoder = OneHotEncoder()\n",
        "df_bal = onehotencoder.fit_transform(df[['balcony']]).toarray()"
      ]
    },
    {
      "cell_type": "code",
      "execution_count": null,
      "id": "87efddd9",
      "metadata": {
        "id": "87efddd9"
      },
      "outputs": [],
      "source": [
        "onehotencoder = OneHotEncoder()\n",
        "df_floor = onehotencoder.fit_transform(df[['floor']]).toarray()"
      ]
    },
    {
      "cell_type": "code",
      "execution_count": null,
      "id": "5663f89d",
      "metadata": {
        "id": "5663f89d"
      },
      "outputs": [],
      "source": [
        "onehotencoder = OneHotEncoder()\n",
        "df_heat = onehotencoder.fit_transform(df[['heating']]).toarray()"
      ]
    },
    {
      "cell_type": "code",
      "execution_count": null,
      "id": "e02983ac",
      "metadata": {
        "id": "e02983ac"
      },
      "outputs": [],
      "source": [
        "df_new = df.drop(['type','ber','balcony','floor','heating'],axis=1)"
      ]
    },
    {
      "cell_type": "code",
      "execution_count": null,
      "id": "94113b82",
      "metadata": {
        "id": "94113b82",
        "outputId": "dcab3f47-e88a-47f7-e0be-02b23eefed2b"
      },
      "outputs": [
        {
          "data": {
            "text/html": [
              "<div>\n",
              "<style scoped>\n",
              "    .dataframe tbody tr th:only-of-type {\n",
              "        vertical-align: middle;\n",
              "    }\n",
              "\n",
              "    .dataframe tbody tr th {\n",
              "        vertical-align: top;\n",
              "    }\n",
              "\n",
              "    .dataframe thead th {\n",
              "        text-align: right;\n",
              "    }\n",
              "</style>\n",
              "<table border=\"1\" class=\"dataframe\">\n",
              "  <thead>\n",
              "    <tr style=\"text-align: right;\">\n",
              "      <th></th>\n",
              "      <th>distance_eyre_square</th>\n",
              "      <th>distance_salthill</th>\n",
              "      <th>distance_nuig</th>\n",
              "      <th>distance_gmit</th>\n",
              "      <th>num_bedrooms</th>\n",
              "      <th>num_bathrooms</th>\n",
              "    </tr>\n",
              "  </thead>\n",
              "  <tbody>\n",
              "    <tr>\n",
              "      <th>0</th>\n",
              "      <td>1.112343</td>\n",
              "      <td>2.458528</td>\n",
              "      <td>0.663391</td>\n",
              "      <td>3.046377</td>\n",
              "      <td>5</td>\n",
              "      <td>3</td>\n",
              "    </tr>\n",
              "    <tr>\n",
              "      <th>1</th>\n",
              "      <td>1.045924</td>\n",
              "      <td>2.687242</td>\n",
              "      <td>1.013547</td>\n",
              "      <td>2.627561</td>\n",
              "      <td>6</td>\n",
              "      <td>3</td>\n",
              "    </tr>\n",
              "    <tr>\n",
              "      <th>2</th>\n",
              "      <td>1.876834</td>\n",
              "      <td>2.365351</td>\n",
              "      <td>0.889952</td>\n",
              "      <td>4.098964</td>\n",
              "      <td>4</td>\n",
              "      <td>2</td>\n",
              "    </tr>\n",
              "    <tr>\n",
              "      <th>3</th>\n",
              "      <td>1.739580</td>\n",
              "      <td>1.340990</td>\n",
              "      <td>0.973981</td>\n",
              "      <td>4.275886</td>\n",
              "      <td>3</td>\n",
              "      <td>2</td>\n",
              "    </tr>\n",
              "    <tr>\n",
              "      <th>4</th>\n",
              "      <td>2.446769</td>\n",
              "      <td>1.037478</td>\n",
              "      <td>1.917976</td>\n",
              "      <td>4.984487</td>\n",
              "      <td>4</td>\n",
              "      <td>3</td>\n",
              "    </tr>\n",
              "  </tbody>\n",
              "</table>\n",
              "</div>"
            ],
            "text/plain": [
              "   distance_eyre_square  distance_salthill  distance_nuig  distance_gmit  \\\n",
              "0              1.112343           2.458528       0.663391       3.046377   \n",
              "1              1.045924           2.687242       1.013547       2.627561   \n",
              "2              1.876834           2.365351       0.889952       4.098964   \n",
              "3              1.739580           1.340990       0.973981       4.275886   \n",
              "4              2.446769           1.037478       1.917976       4.984487   \n",
              "\n",
              "   num_bedrooms  num_bathrooms  \n",
              "0             5              3  \n",
              "1             6              3  \n",
              "2             4              2  \n",
              "3             3              2  \n",
              "4             4              3  "
            ]
          },
          "execution_count": 18,
          "metadata": {},
          "output_type": "execute_result"
        }
      ],
      "source": [
        "\n",
        "\n",
        "df_new.head()"
      ]
    },
    {
      "cell_type": "code",
      "execution_count": null,
      "id": "2ede3e32",
      "metadata": {
        "id": "2ede3e32"
      },
      "outputs": [],
      "source": [
        "df_final = np.hstack((np.array(df_new),df_type,df_ber,df_bal,df_floor,df_heat))"
      ]
    },
    {
      "cell_type": "code",
      "execution_count": null,
      "id": "8c6075c7",
      "metadata": {
        "id": "8c6075c7",
        "outputId": "195f0276-adf0-4996-b158-9508271da256"
      },
      "outputs": [
        {
          "data": {
            "text/plain": [
              "(395, 33)"
            ]
          },
          "execution_count": 20,
          "metadata": {},
          "output_type": "execute_result"
        }
      ],
      "source": [
        "df_final.shape"
      ]
    },
    {
      "cell_type": "code",
      "execution_count": null,
      "id": "6df2b688",
      "metadata": {
        "scrolled": false,
        "id": "6df2b688",
        "outputId": "cc4f4b46-b957-48ea-e8e1-dcf6826a5c4f"
      },
      "outputs": [
        {
          "data": {
            "image/png": "[encoded data removed]",
            "text/plain": [
              "<Figure size 720x432 with 2 Axes>"
            ]
          },
          "metadata": {
            "needs_background": "light"
          },
          "output_type": "display_data"
        }
      ],
      "source": [
        "# Increase the size of the heatmap.\n",
        "plt.figure(figsize=(10, 6))\n",
        "# Store heatmap object in a variable to easily access it when you want to include more features (such as title).\n",
        "# Set the range of values to be displayed on the colormap from -1 to 1, and set the annotation to True to display the correlation values on the heatmap.\n",
        "heatmap = sns.heatmap(df_new.corr(), vmin=-1, vmax=1, annot=True)\n",
        "# Give a title to the heatmap. Pad defines the distance of the title from the top of the heatmap.\n",
        "heatmap.set_title('Correlation Heatmap', fontdict={'fontsize':12}, pad=12);"
      ]
    },
    {
      "cell_type": "code",
      "execution_count": null,
      "id": "ba0f1e13",
      "metadata": {
        "id": "ba0f1e13"
      },
      "outputs": [],
      "source": [
        ""
      ]
    },
    {
      "cell_type": "code",
      "execution_count": null,
      "id": "a714780d",
      "metadata": {
        "id": "a714780d"
      },
      "outputs": [],
      "source": [
        "# df_new = df_new.drop(['distance_gmit','distance_salthill'],axis=1)"
      ]
    },
    {
      "cell_type": "code",
      "execution_count": null,
      "id": "999276d5",
      "metadata": {
        "id": "999276d5"
      },
      "outputs": [],
      "source": [
        "# df_new.head()"
      ]
    },
    {
      "cell_type": "code",
      "execution_count": null,
      "id": "69bdedf1",
      "metadata": {
        "id": "69bdedf1"
      },
      "outputs": [],
      "source": [
        "# df_final = np.hstack((np.array(df_new),df_type,df_ber,df_bal,df_floor,df_heat))"
      ]
    },
    {
      "cell_type": "code",
      "execution_count": null,
      "id": "224cd4cd",
      "metadata": {
        "id": "224cd4cd"
      },
      "outputs": [],
      "source": [
        "# # Create correlation matrix\n",
        "# corr_matrix = df_new.corr().abs()\n",
        "\n",
        "# # Select upper triangle of correlation matrix\n",
        "# upper = corr_matrix.where(np.triu(np.ones(corr_matrix.shape), k=1).astype(np.bool))\n",
        "\n",
        "# # Find features with correlation greater than 0.95\n",
        "# to_drop = [column for column in upper.columns if any(upper[column] > 0.95)]\n",
        "\n",
        "# # Drop features \n",
        "# df_new.drop(to_drop, axis=1, inplace=True)"
      ]
    },
    {
      "cell_type": "code",
      "execution_count": null,
      "id": "1b6d67c2",
      "metadata": {
        "scrolled": true,
        "id": "1b6d67c2"
      },
      "outputs": [],
      "source": [
        "# df_new.head()"
      ]
    },
    {
      "cell_type": "code",
      "execution_count": null,
      "id": "7cdef12f",
      "metadata": {
        "id": "7cdef12f"
      },
      "outputs": [],
      "source": [
        "# df_final = np.hstack((np.array(df_new),df_type,df_ber,df_bal,df_floor,df_heat))"
      ]
    },
    {
      "cell_type": "code",
      "execution_count": null,
      "id": "5896a1e3",
      "metadata": {
        "id": "5896a1e3"
      },
      "outputs": [],
      "source": [
        "X = df_final"
      ]
    },
    {
      "cell_type": "code",
      "execution_count": null,
      "id": "70423a13",
      "metadata": {
        "id": "70423a13"
      },
      "outputs": [],
      "source": [
        "from sklearn.preprocessing import MinMaxScaler\n",
        "scaler = MinMaxScaler()\n"
      ]
    },
    {
      "cell_type": "code",
      "execution_count": null,
      "id": "93ad07b8",
      "metadata": {
        "id": "93ad07b8"
      },
      "outputs": [],
      "source": [
        "df = scaler.fit_transform(X)\n"
      ]
    },
    {
      "cell_type": "code",
      "execution_count": null,
      "id": "2bebe0d6",
      "metadata": {
        "id": "2bebe0d6",
        "outputId": "6bd8fb5a-eaa4-4ba3-fd0a-b1d9bba702b6"
      },
      "outputs": [
        {
          "data": {
            "text/plain": [
              "<AxesSubplot:>"
            ]
          },
          "execution_count": 31,
          "metadata": {},
          "output_type": "execute_result"
        },
        {
          "data": {
            "image/png": "[encoded data removed]",
            "text/plain": [
              "<Figure size 432x288 with 1 Axes>"
            ]
          },
          "metadata": {
            "needs_background": "light"
          },
          "output_type": "display_data"
        }
      ],
      "source": [
        "pd.DataFrame(df).boxplot()"
      ]
    },
    {
      "cell_type": "code",
      "execution_count": null,
      "id": "46804f40",
      "metadata": {
        "id": "46804f40"
      },
      "outputs": [],
      "source": [
        ""
      ]
    },
    {
      "cell_type": "code",
      "execution_count": null,
      "id": "650b58ff",
      "metadata": {
        "id": "650b58ff"
      },
      "outputs": [],
      "source": [
        "from sklearn.model_selection import train_test_split"
      ]
    },
    {
      "cell_type": "code",
      "execution_count": null,
      "id": "81302407",
      "metadata": {
        "id": "81302407"
      },
      "outputs": [],
      "source": [
        "X_train,X_test,y_train,y_test=train_test_split(X,y,test_size=0.2,random_state = 0)"
      ]
    },
    {
      "cell_type": "code",
      "execution_count": null,
      "id": "13ed592a",
      "metadata": {
        "id": "13ed592a",
        "outputId": "8f607f1e-26f2-4662-e0c2-918240518e84"
      },
      "outputs": [
        {
          "data": {
            "text/plain": [
              "((316, 33), (79, 33), (316,), (79,))"
            ]
          },
          "execution_count": 34,
          "metadata": {},
          "output_type": "execute_result"
        }
      ],
      "source": [
        "X_train.shape, X_test.shape, y_train.shape, y_test.shape"
      ]
    },
    {
      "cell_type": "code",
      "execution_count": null,
      "id": "e83febff",
      "metadata": {
        "id": "e83febff"
      },
      "outputs": [],
      "source": [
        "from sklearn.linear_model import LinearRegression,Lasso\n",
        "from sklearn.model_selection import KFold\n",
        "from sklearn.model_selection import GridSearchCV\n",
        "lr = LinearRegression()"
      ]
    },
    {
      "cell_type": "code",
      "execution_count": null,
      "id": "df57bddf",
      "metadata": {
        "id": "df57bddf"
      },
      "outputs": [],
      "source": [
        "space = {}\n",
        "space['fit_intercept'] = [True, False]\n",
        "space['normalize'] = [True, False]\n",
        "# define search\n",
        "search = GridSearchCV(lr, space, scoring='r2', n_jobs=-1, cv=5)\n",
        "# execute search\n",
        "result = search.fit(X_train, y_train)"
      ]
    },
    {
      "cell_type": "code",
      "execution_count": null,
      "id": "ccec2407",
      "metadata": {
        "id": "ccec2407",
        "outputId": "017ca0f7-1dce-4e28-ae59-5ec31c7dacc2"
      },
      "outputs": [
        {
          "data": {
            "text/plain": [
              "(LinearRegression(normalize=True), {'fit_intercept': True, 'normalize': True})"
            ]
          },
          "execution_count": 37,
          "metadata": {},
          "output_type": "execute_result"
        }
      ],
      "source": [
        "result.best_estimator_,result.best_params_"
      ]
    },
    {
      "cell_type": "code",
      "execution_count": null,
      "id": "2c762d0a",
      "metadata": {
        "id": "2c762d0a"
      },
      "outputs": [],
      "source": [
        "lr = LinearRegression(normalize=True,fit_intercept= True)"
      ]
    },
    {
      "cell_type": "code",
      "execution_count": null,
      "id": "619af302",
      "metadata": {
        "id": "619af302",
        "outputId": "1a62d67f-f4c8-4a56-ab4c-1cff2c0ece6a"
      },
      "outputs": [
        {
          "data": {
            "text/plain": [
              "LinearRegression(normalize=True)"
            ]
          },
          "execution_count": 39,
          "metadata": {},
          "output_type": "execute_result"
        }
      ],
      "source": [
        "lr.fit(X_train, y_train)"
      ]
    },
    {
      "cell_type": "code",
      "execution_count": null,
      "id": "912b25be",
      "metadata": {
        "id": "912b25be"
      },
      "outputs": [],
      "source": [
        "y_pred = lr.predict(X_test)"
      ]
    },
    {
      "cell_type": "code",
      "execution_count": null,
      "id": "f56f469d",
      "metadata": {
        "id": "f56f469d",
        "outputId": "b0b95d08-f97d-43c5-a285-b7bc236a7048"
      },
      "outputs": [
        {
          "data": {
            "text/plain": [
              "array([1565., 1295., 1539., 1785., 1929., 1129., 1596., 1447.,  988.,\n",
              "       1091., 1025., 1879., 1904., 1849., 1565., 2553., 1970., 1441.,\n",
              "       1157., 1554., 1553., 1621., 1789., 1665., 1419., 2120., 1539.,\n",
              "       1311., 2049., 1855., 1638., 1501., 1091., 1703., 1355., 1587.,\n",
              "       2063., 1639., 1723., 1829., 2664., 1581., 1300., 1389., 1670.,\n",
              "       1280., 1609.,  929., 1374., 1598., 1520., 1293., 2077., 1774.,\n",
              "       2075., 2191., 1904., 1093., 1213., 1531., 1560., 1315., 2243.,\n",
              "       1936., 1189., 2215., 1335., 1211., 1647., 1535., 1808., 2073.,\n",
              "       1730., 1116., 1697., 1741., 1752., 1331., 1861.])"
            ]
          },
          "execution_count": 41,
          "metadata": {},
          "output_type": "execute_result"
        }
      ],
      "source": [
        "y_pred"
      ]
    },
    {
      "cell_type": "code",
      "execution_count": null,
      "id": "dc64161b",
      "metadata": {
        "id": "dc64161b",
        "outputId": "53854f7c-ea14-4802-83cd-535fbbfdbf06"
      },
      "outputs": [
        {
          "name": "stdout",
          "output_type": "stream",
          "text": [
            "[-4.14919058e-01 -2.93306879e+01 -5.17006605e+01 -1.20068115e+01\n",
            "  3.03717304e+02  1.21413455e+02  4.40849080e+14  4.40849080e+14\n",
            "  4.40849080e+14  4.40849080e+14 -2.60079880e+15 -2.60079880e+15\n",
            " -2.60079880e+15 -2.60079880e+15 -2.60079880e+15 -2.60079880e+15\n",
            " -2.60079880e+15 -2.60079880e+15 -2.60079880e+15 -2.60079880e+15\n",
            " -2.60079880e+15 -2.60079880e+15 -2.60079880e+15 -2.60079880e+15\n",
            " -2.94383802e+15 -2.94383802e+15 -5.77273164e+14 -5.77273164e+14\n",
            " -5.77273164e+14 -5.77273164e+14 -2.34143810e+15 -2.34143810e+15\n",
            " -2.34143810e+15]\n"
          ]
        }
      ],
      "source": [
        "print(lr.coef_)"
      ]
    },
    {
      "cell_type": "code",
      "execution_count": null,
      "id": "b76e72da",
      "metadata": {
        "id": "b76e72da",
        "outputId": "419b5975-7172-4abd-fc04-fee195319bf1"
      },
      "outputs": [
        {
          "name": "stdout",
          "output_type": "stream",
          "text": [
            "8022499006375779.0\n"
          ]
        }
      ],
      "source": [
        "print(lr.intercept_)"
      ]
    },
    {
      "cell_type": "code",
      "execution_count": null,
      "id": "9f0512ca",
      "metadata": {
        "id": "9f0512ca"
      },
      "outputs": [],
      "source": [
        "#calculate r squared value\n",
        "from sklearn.metrics import mean_absolute_error,mean_squared_error,r2_score\n"
      ]
    },
    {
      "cell_type": "code",
      "execution_count": null,
      "id": "0e4f571e",
      "metadata": {
        "id": "0e4f571e",
        "outputId": "2ef18aca-1f14-41bf-8dc8-53c3a6a20161"
      },
      "outputs": [
        {
          "data": {
            "text/plain": [
              "237.69620253164558"
            ]
          },
          "execution_count": 45,
          "metadata": {},
          "output_type": "execute_result"
        }
      ],
      "source": [
        "#mae\n",
        "mean_absolute_error(y_test,y_pred)"
      ]
    },
    {
      "cell_type": "code",
      "execution_count": null,
      "id": "ec0385f5",
      "metadata": {
        "id": "ec0385f5",
        "outputId": "bb3bb93d-04a6-4d3e-f493-6ef5ffacfe7f"
      },
      "outputs": [
        {
          "data": {
            "text/plain": [
              "110525.46835443038"
            ]
          },
          "execution_count": 46,
          "metadata": {},
          "output_type": "execute_result"
        }
      ],
      "source": [
        "#mse\n",
        "mean_squared_error(y_test,y_pred)"
      ]
    },
    {
      "cell_type": "code",
      "execution_count": null,
      "id": "68da1b45",
      "metadata": {
        "id": "68da1b45",
        "outputId": "6eade458-1a95-47ea-a850-58072dc92a74"
      },
      "outputs": [
        {
          "data": {
            "text/plain": [
              "332.4537085887754"
            ]
          },
          "execution_count": 47,
          "metadata": {},
          "output_type": "execute_result"
        }
      ],
      "source": [
        "#rmse\n",
        "np.sqrt(mean_squared_error(y_test,y_pred))"
      ]
    },
    {
      "cell_type": "code",
      "execution_count": null,
      "id": "64aaaeb6",
      "metadata": {
        "id": "64aaaeb6",
        "outputId": "2202f363-0a5c-41eb-c131-0c98e78b9c63"
      },
      "outputs": [
        {
          "data": {
            "text/plain": [
              "0.5885408380789494"
            ]
          },
          "execution_count": 48,
          "metadata": {},
          "output_type": "execute_result"
        }
      ],
      "source": [
        "#r2\n",
        "r2_lin = r2_score(y_test, y_pred)\n",
        "r2_lin"
      ]
    },
    {
      "cell_type": "code",
      "execution_count": null,
      "id": "7d29a172",
      "metadata": {
        "scrolled": true,
        "id": "7d29a172",
        "outputId": "373f071d-002e-4a72-dc1d-7a537df92681"
      },
      "outputs": [
        {
          "data": {
            "image/png": "[encoded data removed]",
            "text/plain": [
              "<Figure size 432x288 with 1 Axes>"
            ]
          },
          "metadata": {
            "needs_background": "light"
          },
          "output_type": "display_data"
        }
      ],
      "source": [
        "fig=plt.figure()\n",
        "ax=fig.add_axes([0,0,1,1])\n",
        "ax.scatter(y_test,y_pred, color='b')\n",
        "\n",
        "ax.set_xlabel('Actual Price')\n",
        "ax.set_ylabel('predicted Price')\n",
        "ax.set_title('scatter plot linear regression')\n",
        "plt.plot(np.unique(y_test), np.poly1d(np.polyfit(y_test, y_pred, 1))(np.unique(y_test)), color = 'green')\n",
        "plt.show()\n"
      ]
    },
    {
      "cell_type": "code",
      "execution_count": null,
      "id": "e204996e",
      "metadata": {
        "id": "e204996e"
      },
      "outputs": [],
      "source": [
        ""
      ]
    },
    {
      "cell_type": "code",
      "execution_count": null,
      "id": "edb83903",
      "metadata": {
        "scrolled": true,
        "id": "edb83903"
      },
      "outputs": [],
      "source": [
        "# lasso = Lasso(random_state=0, max_iter=100000)\n",
        "# alphas = np.logspace(-4, -0.5, 30)\n",
        "\n",
        "# tuned_parameters = [{\"alpha\": alphas}]\n",
        "# n_folds = 5\n",
        "\n",
        "# results = GridSearchCV(lasso, tuned_parameters, cv=n_folds, refit=False,scoring='r2')\n",
        "# # results.cv_results_\n",
        "# results.fit(X_train, y_train)\n",
        "\n"
      ]
    },
    {
      "cell_type": "code",
      "execution_count": null,
      "id": "116ab398",
      "metadata": {
        "scrolled": true,
        "id": "116ab398"
      },
      "outputs": [],
      "source": [
        "# pd.DataFrame(results.cv_results_)"
      ]
    },
    {
      "cell_type": "code",
      "execution_count": null,
      "id": "c208e239",
      "metadata": {
        "id": "c208e239"
      },
      "outputs": [],
      "source": [
        "# cv_lasso pd.DataFrame(results.cv_results_)['mean_test_score']"
      ]
    },
    {
      "cell_type": "code",
      "execution_count": null,
      "id": "eb4a8859",
      "metadata": {
        "id": "eb4a8859"
      },
      "outputs": [],
      "source": [
        "# results.estimator,results.best_params_"
      ]
    },
    {
      "cell_type": "code",
      "execution_count": null,
      "id": "88990848",
      "metadata": {
        "id": "88990848"
      },
      "outputs": [],
      "source": [
        "# lasso = Lasso(max_iter=10000, random_state=0,alpha=0.31622776601683794)"
      ]
    },
    {
      "cell_type": "code",
      "execution_count": null,
      "id": "3e7aa805",
      "metadata": {
        "id": "3e7aa805"
      },
      "outputs": [],
      "source": [
        "# lasso.fit(X_train, y_train)"
      ]
    },
    {
      "cell_type": "code",
      "execution_count": null,
      "id": "12cf4116",
      "metadata": {
        "id": "12cf4116"
      },
      "outputs": [],
      "source": [
        "# Y_pred = lasso.predict(X_test)"
      ]
    },
    {
      "cell_type": "code",
      "execution_count": null,
      "id": "a62365eb",
      "metadata": {
        "id": "a62365eb"
      },
      "outputs": [],
      "source": [
        "# print(lasso.coef_)"
      ]
    },
    {
      "cell_type": "code",
      "execution_count": null,
      "id": "fe3a99ef",
      "metadata": {
        "id": "fe3a99ef"
      },
      "outputs": [],
      "source": [
        "# print(lasso.intercept_)"
      ]
    },
    {
      "cell_type": "code",
      "execution_count": null,
      "id": "0d02f6fc",
      "metadata": {
        "id": "0d02f6fc"
      },
      "outputs": [],
      "source": [
        "#mae\n",
        "# mean_absolute_error(y_test,Y_pred)"
      ]
    },
    {
      "cell_type": "code",
      "execution_count": null,
      "id": "9a55d90e",
      "metadata": {
        "id": "9a55d90e"
      },
      "outputs": [],
      "source": [
        "#mse\n",
        "# mean_squared_error(y_test,Y_pred)"
      ]
    },
    {
      "cell_type": "code",
      "execution_count": null,
      "id": "1bff6b97",
      "metadata": {
        "id": "1bff6b97"
      },
      "outputs": [],
      "source": [
        "#rmse\n",
        "# np.sqrt(mean_squared_error(y_test,Y_pred))"
      ]
    },
    {
      "cell_type": "code",
      "execution_count": null,
      "id": "97a155ce",
      "metadata": {
        "id": "97a155ce"
      },
      "outputs": [],
      "source": [
        "#r2\n",
        "# r2_lasso = r2_score(y_test, Y_pred)\n",
        "# r2_lasso"
      ]
    },
    {
      "cell_type": "code",
      "execution_count": null,
      "id": "0ebd0f09",
      "metadata": {
        "id": "0ebd0f09"
      },
      "outputs": [],
      "source": [
        "# fig=plt.figure()\n",
        "# ax=fig.add_axes([0,0,1,1])\n",
        "# ax.scatter(y_test,Y_pred, color='b')\n",
        "# plt.plot(np.unique(y_test), np.poly1d(np.polyfit(y_test, Y_pred, 1))(np.unique(y_test)), color = 'green')\n",
        "# ax.set_xlabel('test')\n",
        "# ax.set_ylabel('pred')\n",
        "# ax.set_title('scatter plot')\n",
        "# plt.show()"
      ]
    },
    {
      "cell_type": "code",
      "execution_count": null,
      "id": "5072f794",
      "metadata": {
        "id": "5072f794"
      },
      "outputs": [],
      "source": [
        "from sklearn.model_selection import cross_val_score"
      ]
    },
    {
      "cell_type": "code",
      "execution_count": null,
      "id": "20e38f4b",
      "metadata": {
        "id": "20e38f4b"
      },
      "outputs": [],
      "source": [
        "# scores_lasso = cross_val_score(lasso,\n",
        "#                              X_train,\n",
        "#                              y_train,\n",
        "#                              cv=10,\n",
        "#                              scoring='r2')"
      ]
    },
    {
      "cell_type": "code",
      "execution_count": null,
      "id": "e7bfb1ff",
      "metadata": {
        "id": "e7bfb1ff"
      },
      "outputs": [],
      "source": [
        "scores_lin = cross_val_score(lr,\n",
        "                             X_train,\n",
        "                             y_train,\n",
        "                             cv=10,\n",
        "                             scoring='r2')"
      ]
    },
    {
      "cell_type": "code",
      "execution_count": null,
      "id": "398b301f",
      "metadata": {
        "id": "398b301f"
      },
      "outputs": [],
      "source": [
        ""
      ]
    },
    {
      "cell_type": "code",
      "execution_count": null,
      "id": "102fdcd9",
      "metadata": {
        "id": "102fdcd9"
      },
      "outputs": [],
      "source": [
        ""
      ]
    },
    {
      "cell_type": "code",
      "execution_count": null,
      "id": "f85d6fbd",
      "metadata": {
        "id": "f85d6fbd"
      },
      "outputs": [],
      "source": [
        ""
      ]
    },
    {
      "cell_type": "code",
      "execution_count": null,
      "id": "9458414e",
      "metadata": {
        "id": "9458414e"
      },
      "outputs": [],
      "source": [
        "# plt.plot(range(10), scores_lasso, label =\"Lasso Regression\")\n",
        "# plt.plot(range(10), scores_lin, label =\"Linear regression\")\n",
        "# plt.xlabel(\"Iterations\")\n",
        "# plt.ylabel(\"R2_Score\")\n",
        "# plt.legend()\n",
        "# plt.show()"
      ]
    },
    {
      "cell_type": "code",
      "execution_count": null,
      "id": "3a204e04",
      "metadata": {
        "id": "3a204e04"
      },
      "outputs": [],
      "source": [
        "# from sklearn.ensemble import RandomForestRegressor\n",
        "# regr = RandomForestRegressor(max_depth=2, random_state=0)\n",
        "# regr.fit(X_train, y_train)"
      ]
    },
    {
      "cell_type": "code",
      "execution_count": null,
      "id": "38167ca2",
      "metadata": {
        "id": "38167ca2"
      },
      "outputs": [],
      "source": [
        "# y_pred = regr.predict(X_test)\n"
      ]
    },
    {
      "cell_type": "code",
      "execution_count": null,
      "id": "64a8b7f0",
      "metadata": {
        "id": "64a8b7f0"
      },
      "outputs": [],
      "source": [
        "# #mae\n",
        "# mean_absolute_error(y_test,y_pred)\n",
        "\n",
        "# #mse\n",
        "# mean_squared_error(y_test,y_pred)\n",
        "\n",
        "# #rmse\n",
        "# np.sqrt(mean_squared_error(y_test,y_pred))\n",
        "\n",
        "# #r2\n",
        "# r2_score(y_test, y_pred)"
      ]
    },
    {
      "cell_type": "code",
      "execution_count": null,
      "id": "11b81790",
      "metadata": {
        "id": "11b81790"
      },
      "outputs": [],
      "source": [
        "from sklearn.model_selection import GridSearchCV\n",
        "from sklearn.svm import SVR"
      ]
    },
    {
      "cell_type": "code",
      "execution_count": null,
      "id": "d743e750",
      "metadata": {
        "id": "d743e750"
      },
      "outputs": [],
      "source": [
        "svr=SVR(kernel='linear')"
      ]
    },
    {
      "cell_type": "code",
      "execution_count": null,
      "id": "672131d5",
      "metadata": {
        "id": "672131d5"
      },
      "outputs": [],
      "source": [
        "param_grid={\n",
        "            'C': [1.1, 5.4, 170, 1001],\n",
        "            'epsilon': [0.0003, 0.007, 0.0109, 0.019, 0.14, 0.05, 8, 0.2, 3, 2, 7],\n",
        "            'gamma': [0.7001, 0.008, 0.001, 3.1, 1, 1.3, 5]\n",
        "        }"
      ]
    },
    {
      "cell_type": "code",
      "execution_count": null,
      "id": "2af68644",
      "metadata": {
        "id": "2af68644",
        "outputId": "e77879a4-d864-443a-deed-b815191e87e9"
      },
      "outputs": [
        {
          "data": {
            "text/plain": [
              "GridSearchCV(cv=5, estimator=SVR(kernel='linear'),\n",
              "             param_grid={'C': [1.1, 5.4, 170, 1001],\n",
              "                         'epsilon': [0.0003, 0.007, 0.0109, 0.019, 0.14, 0.05,\n",
              "                                     8, 0.2, 3, 2, 7],\n",
              "                         'gamma': [0.7001, 0.008, 0.001, 3.1, 1, 1.3, 5]},\n",
              "             refit=False)"
            ]
          },
          "execution_count": 74,
          "metadata": {},
          "output_type": "execute_result"
        }
      ],
      "source": [
        "results = GridSearchCV(svr, param_grid, cv=5, refit=False)\n",
        "results.fit(X_train, y_train)"
      ]
    },
    {
      "cell_type": "code",
      "execution_count": null,
      "id": "aa8b63fd",
      "metadata": {
        "id": "aa8b63fd",
        "outputId": "574400e9-d00f-4db8-a5f5-f9082112e543"
      },
      "outputs": [
        {
          "data": {
            "text/plain": [
              "{'C': 5.4, 'epsilon': 8, 'gamma': 0.7001}"
            ]
          },
          "execution_count": 75,
          "metadata": {},
          "output_type": "execute_result"
        }
      ],
      "source": [
        "results.best_params_"
      ]
    },
    {
      "cell_type": "code",
      "execution_count": null,
      "id": "1d48f5e8",
      "metadata": {
        "id": "1d48f5e8"
      },
      "outputs": [],
      "source": [
        "#vr= SVR(C= 1001, epsilon= 8, gamma= 0.7001)"
      ]
    },
    {
      "cell_type": "code",
      "execution_count": null,
      "id": "10a94e8c",
      "metadata": {
        "id": "10a94e8c"
      },
      "outputs": [],
      "source": [
        "svr = SVR(C= 1001, epsilon= 5, gamma = 'auto')"
      ]
    },
    {
      "cell_type": "code",
      "execution_count": null,
      "id": "0312c6f1",
      "metadata": {
        "id": "0312c6f1",
        "outputId": "9cab6dd0-1087-4ec4-e2f6-6e7708bf42dc"
      },
      "outputs": [
        {
          "data": {
            "text/plain": [
              "SVR(C=1001, epsilon=5, gamma='auto')"
            ]
          },
          "execution_count": 78,
          "metadata": {},
          "output_type": "execute_result"
        }
      ],
      "source": [
        "svr.fit(X_train,y_train)"
      ]
    },
    {
      "cell_type": "code",
      "execution_count": null,
      "id": "8afcbad3",
      "metadata": {
        "id": "8afcbad3",
        "outputId": "61608aca-c049-43e8-b6f9-2ad44b3d500d"
      },
      "outputs": [
        {
          "data": {
            "text/plain": [
              "0.6366429881266082"
            ]
          },
          "execution_count": 79,
          "metadata": {},
          "output_type": "execute_result"
        }
      ],
      "source": [
        "y_pred1 = svr.predict(X_test)\n",
        "\n",
        "#mae\n",
        "mean_absolute_error(y_test,y_pred1)\n",
        "\n",
        "#mse\n",
        "mean_squared_error(y_test,y_pred1)\n",
        "\n",
        "#rmse\n",
        "np.sqrt(mean_squared_error(y_test,y_pred1))\n",
        "\n",
        "#r2\n",
        "r2_score(y_test, y_pred1)"
      ]
    },
    {
      "cell_type": "code",
      "execution_count": null,
      "id": "9bec1441",
      "metadata": {
        "id": "9bec1441",
        "outputId": "225b1a6a-5173-46e4-c4cb-259089f512ec"
      },
      "outputs": [
        {
          "data": {
            "image/png": "[encoded data removed]",
            "text/plain": [
              "<Figure size 432x288 with 1 Axes>"
            ]
          },
          "metadata": {
            "needs_background": "light"
          },
          "output_type": "display_data"
        }
      ],
      "source": [
        "fig=plt.figure()\n",
        "ax=fig.add_axes([0,0,1,1])\n",
        "ax.scatter(y_test,y_pred1, color='b')\n",
        "\n",
        "ax.set_xlabel('Actual Price')\n",
        "ax.set_ylabel('predicted Price')\n",
        "ax.set_title('scatter plot for SVR')\n",
        "plt.plot(np.unique(y_test), np.poly1d(np.polyfit(y_test, y_pred1, 1))(np.unique(y_test)), color = 'green')\n",
        "plt.show()"
      ]
    },
    {
      "cell_type": "code",
      "execution_count": null,
      "id": "29937906",
      "metadata": {
        "id": "29937906",
        "outputId": "c60491f9-c4f5-47e7-d544-94bd13789ddc"
      },
      "outputs": [
        {
          "name": "stdout",
          "output_type": "stream",
          "text": [
            "MAE: 228.46566420890014\n",
            "MSE: 97604.34967511732\n",
            "RMSE: 312.4169484440902\n",
            "R2_score: 0.6366429881266082\n",
            "R: 0.797899108989732\n"
          ]
        }
      ],
      "source": [
        "#SVR\n",
        "from sklearn import metrics\n",
        "print(\"MAE:\",metrics.mean_absolute_error(y_test,y_pred1))\n",
        "print(\"MSE:\",metrics.mean_squared_error(y_test,y_pred1))\n",
        "print(\"RMSE:\",np.sqrt(metrics.mean_squared_error(y_test,y_pred1)))\n",
        "print(\"R2_score:\",metrics.r2_score(y_test, y_pred1))\n",
        "print(\"R:\",np.sqrt(metrics.r2_score(y_test, y_pred1)))"
      ]
    },
    {
      "cell_type": "code",
      "execution_count": null,
      "id": "5da30093",
      "metadata": {
        "id": "5da30093",
        "outputId": "14e1c80c-784d-46d9-b2a5-78843a48149b"
      },
      "outputs": [
        {
          "name": "stdout",
          "output_type": "stream",
          "text": [
            "MAE: 237.69620253164558\n",
            "MSE: 110525.46835443038\n",
            "RMSE: 332.4537085887754\n",
            "R2_score: 0.5885408380789494\n",
            "R: 0.7671641532807365\n"
          ]
        }
      ],
      "source": [
        "#LR\n",
        "from sklearn import metrics\n",
        "print(\"MAE:\",metrics.mean_absolute_error(y_test,y_pred))\n",
        "print(\"MSE:\",metrics.mean_squared_error(y_test,y_pred))\n",
        "print(\"RMSE:\",np.sqrt(metrics.mean_squared_error(y_test,y_pred)))\n",
        "print(\"R2_score:\",metrics.r2_score(y_test, y_pred))\n",
        "print(\"R:\",np.sqrt(metrics.r2_score(y_test, y_pred)))"
      ]
    },
    {
      "cell_type": "code",
      "execution_count": null,
      "id": "17f09fa2",
      "metadata": {
        "id": "17f09fa2"
      },
      "outputs": [],
      "source": [
        "#regr = svm.SVR(C=1.0, kernel='rbf', degree=3)"
      ]
    },
    {
      "cell_type": "code",
      "execution_count": null,
      "id": "a753f4aa",
      "metadata": {
        "id": "a753f4aa"
      },
      "outputs": [],
      "source": [
        "#regr.fit(X_train, y_train)\n"
      ]
    },
    {
      "cell_type": "code",
      "execution_count": null,
      "id": "925b03a5",
      "metadata": {
        "id": "925b03a5"
      },
      "outputs": [],
      "source": [
        "#ypred = regr.predict(X_test)"
      ]
    },
    {
      "cell_type": "code",
      "execution_count": null,
      "id": "2f9575bd",
      "metadata": {
        "id": "2f9575bd"
      },
      "outputs": [],
      "source": [
        "#calculate r squared value\n",
        "#from sklearn.metrics import mean_absolute_error,mean_squared_error,r2_score\n"
      ]
    },
    {
      "cell_type": "code",
      "execution_count": null,
      "id": "e22f3796",
      "metadata": {
        "id": "e22f3796"
      },
      "outputs": [],
      "source": [
        "#mae\n",
        "#mean_absolute_error(y_test,ypred)"
      ]
    },
    {
      "cell_type": "code",
      "execution_count": null,
      "id": "e83a4c22",
      "metadata": {
        "id": "e83a4c22"
      },
      "outputs": [],
      "source": [
        "#mse\n",
        "#mean_squared_error(y_test,ypred)"
      ]
    },
    {
      "cell_type": "code",
      "execution_count": null,
      "id": "50a08066",
      "metadata": {
        "id": "50a08066"
      },
      "outputs": [],
      "source": [
        "#rmse\n",
        "#np.sqrt(mean_squared_error(y_test,ypred))"
      ]
    },
    {
      "cell_type": "code",
      "execution_count": null,
      "id": "45e2db81",
      "metadata": {
        "id": "45e2db81"
      },
      "outputs": [],
      "source": [
        "#r2\n",
        "#r2_score(y_test, ypred)"
      ]
    },
    {
      "cell_type": "code",
      "execution_count": null,
      "id": "492aac47",
      "metadata": {
        "id": "492aac47"
      },
      "outputs": [],
      "source": [
        ""
      ]
    },
    {
      "cell_type": "code",
      "execution_count": null,
      "id": "9eeda393",
      "metadata": {
        "id": "9eeda393"
      },
      "outputs": [],
      "source": [
        ""
      ]
    },
    {
      "cell_type": "code",
      "execution_count": null,
      "id": "0cd16ef9",
      "metadata": {
        "id": "0cd16ef9"
      },
      "outputs": [],
      "source": [
        ""
      ]
    },
    {
      "cell_type": "code",
      "execution_count": null,
      "id": "ac0087cc",
      "metadata": {
        "id": "ac0087cc"
      },
      "outputs": [],
      "source": [
        "scores_lasso = cross_val_score(svr,\n",
        "                             X_train,\n",
        "                             y_train,\n",
        "                             cv=10,\n",
        "                             scoring='r2')"
      ]
    },
    {
      "cell_type": "code",
      "execution_count": null,
      "id": "8addb3a1",
      "metadata": {
        "id": "8addb3a1",
        "outputId": "eb8a32b2-1348-4739-a042-590c9d4305f9"
      },
      "outputs": [
        {
          "data": {
            "image/png": "[encoded data removed]",
            "text/plain": [
              "<Figure size 432x288 with 1 Axes>"
            ]
          },
          "metadata": {
            "needs_background": "light"
          },
          "output_type": "display_data"
        }
      ],
      "source": [
        "plt.plot(range(10), scores_lasso, label =\"svr\")\n",
        "plt.plot(range(10), scores_lin, label =\"Linear regression\")\n",
        "plt.xlabel(\"Iterations\")\n",
        "plt.ylabel(\"R2_Score\")\n",
        "plt.legend()\n",
        "plt.show()"
      ]
    },
    {
      "cell_type": "code",
      "execution_count": null,
      "id": "d2de65a5",
      "metadata": {
        "id": "d2de65a5"
      },
      "outputs": [],
      "source": [
        ""
      ]
    },
    {
      "cell_type": "code",
      "execution_count": null,
      "id": "64f8203e",
      "metadata": {
        "id": "64f8203e"
      },
      "outputs": [],
      "source": [
        ""
      ]
    },
    {
      "cell_type": "code",
      "execution_count": null,
      "id": "77ca2ba9",
      "metadata": {
        "id": "77ca2ba9"
      },
      "outputs": [],
      "source": [
        ""
      ]
    },
    {
      "cell_type": "code",
      "execution_count": null,
      "id": "057278e5",
      "metadata": {
        "id": "057278e5"
      },
      "outputs": [],
      "source": [
        ""
      ]
    },
    {
      "cell_type": "code",
      "execution_count": null,
      "id": "0341f8ab",
      "metadata": {
        "id": "0341f8ab"
      },
      "outputs": [],
      "source": [
        ""
      ]
    },
    {
      "cell_type": "code",
      "execution_count": null,
      "id": "05e09452",
      "metadata": {
        "id": "05e09452"
      },
      "outputs": [],
      "source": [
        ""
      ]
    },
    {
      "cell_type": "code",
      "execution_count": null,
      "id": "da4c5b5b",
      "metadata": {
        "id": "da4c5b5b"
      },
      "outputs": [],
      "source": [
        ""
      ]
    },
    {
      "cell_type": "code",
      "execution_count": null,
      "id": "aacd3ccd",
      "metadata": {
        "id": "aacd3ccd"
      },
      "outputs": [],
      "source": [
        ""
      ]
    },
    {
      "cell_type": "code",
      "execution_count": null,
      "id": "2897bd20",
      "metadata": {
        "id": "2897bd20"
      },
      "outputs": [],
      "source": [
        ""
      ]
    },
    {
      "cell_type": "code",
      "execution_count": null,
      "id": "453e837e",
      "metadata": {
        "id": "453e837e"
      },
      "outputs": [],
      "source": [
        ""
      ]
    },
    {
      "cell_type": "code",
      "execution_count": null,
      "id": "d31ac08d",
      "metadata": {
        "id": "d31ac08d"
      },
      "outputs": [],
      "source": [
        ""
      ]
    },
    {
      "cell_type": "code",
      "execution_count": null,
      "id": "0123b687",
      "metadata": {
        "id": "0123b687"
      },
      "outputs": [],
      "source": [
        ""
      ]
    },
    {
      "cell_type": "code",
      "execution_count": null,
      "id": "46531cfd",
      "metadata": {
        "id": "46531cfd"
      },
      "outputs": [],
      "source": [
        ""
      ]
    },
    {
      "cell_type": "code",
      "execution_count": null,
      "id": "87b3e966",
      "metadata": {
        "id": "87b3e966"
      },
      "outputs": [],
      "source": [
        ""
      ]
    },
    {
      "cell_type": "code",
      "execution_count": null,
      "id": "55b7d5d5",
      "metadata": {
        "id": "55b7d5d5"
      },
      "outputs": [],
      "source": [
        ""
      ]
    },
    {
      "cell_type": "code",
      "execution_count": null,
      "id": "36575adc",
      "metadata": {
        "id": "36575adc"
      },
      "outputs": [],
      "source": [
        ""
      ]
    }
  ],
  "metadata": {
    "kernelspec": {
      "display_name": "Python 3",
      "language": "python",
      "name": "python3"
    },
    "language_info": {
      "codemirror_mode": {
        "name": "ipython",
        "version": 3
      },
      "file_extension": ".py",
      "mimetype": "text/x-python",
      "name": "python",
      "nbconvert_exporter": "python",
      "pygments_lexer": "ipython3",
      "version": "3.8.8"
    },
    "colab": {
      "name": "Assignment_3_Regression.ipynb",
      "provenance": []
    }
  },
  "nbformat": 4,
  "nbformat_minor": 5
}